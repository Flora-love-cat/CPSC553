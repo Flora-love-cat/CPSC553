{
 "cells": [
  {
   "cell_type": "markdown",
   "metadata": {},
   "source": [
    "# Sparse coding and dictionary learning on Graph"
   ]
  },
  {
   "attachments": {},
   "cell_type": "markdown",
   "metadata": {},
   "source": [
    "# sparse coding"
   ]
  },
  {
   "attachments": {},
   "cell_type": "markdown",
   "metadata": {},
   "source": [
    "## objective"
   ]
  },
  {
   "attachments": {},
   "cell_type": "markdown",
   "metadata": {},
   "source": [
    "- minimize reconstruction error of recreating signal $\\mathbf{y} \\in \\mathbb{R}^{n}$ as a linear combination of atoms in dict $\\mathcal{D} \\in \\mathbb{R}^{n \\times K}$ with sparse coefficient $\\mathbf{x} \\in \\mathbb{R}^{K}$"
   ]
  },
  {
   "attachments": {},
   "cell_type": "markdown",
   "metadata": {},
   "source": [
    "$$\n",
    "\\underset{\\mathbf{x} }{\\arg\\min} \\left\\|\\mathbf{x}\\right\\|_0\\text{ subject to } \\left\\| \\mathbf{y} - \\mathcal{D} \\mathbf{x} \\right\\|_2^2  \\leq \\epsilon \n",
    "$$"
   ]
  },
  {
   "attachments": {},
   "cell_type": "markdown",
   "metadata": {},
   "source": [
    "- $\\mathbf{y} \\in \\mathbb{R}^n$ is an input graph signal\n",
    "\n",
    "- $\\mathcal{D}=\\left\\{\\mathbf{d}_1, ..., \\mathbf{d}_p\\right\\}$ is a overcomplete dictionary of atoms (column vector).\n",
    "\n",
    "    overcomplete means atoms don't have to be orthonormal or be eigen basis.\n",
    "\n",
    "    atoms $\\mathbf{d}$ can be chosen or learned, e.g., eigenvectors of graph laplacian, graph wavelets, subdicts of polynomials of graph laplacian"
   ]
  },
  {
   "attachments": {},
   "cell_type": "markdown",
   "metadata": {},
   "source": [
    "## solving"
   ]
  },
  {
   "attachments": {},
   "cell_type": "markdown",
   "metadata": {},
   "source": [
    "- this is a non-convex optimization due to $l_0$ norm, which is the number of non-zero entries in sparse coefficient $\\mathbf{x} \\in \\mathbb{R}^p$"
   ]
  },
  {
   "attachments": {},
   "cell_type": "markdown",
   "metadata": {},
   "source": [
    "- classic sparse coding is solved by **matching pursuit**. \n",
    "\n",
    "    1. Find the atom that loads the highest to the signal\n",
    "\n",
    "    2. Compute a  “residual” by using an orthogonal projection to the atoms selected so far\n",
    "\n",
    "    Repeats step 1, Proceeds until convergence"
   ]
  },
  {
   "attachments": {},
   "cell_type": "markdown",
   "metadata": {},
   "source": [
    "# dictionary learning"
   ]
  },
  {
   "attachments": {},
   "cell_type": "markdown",
   "metadata": {},
   "source": [
    "k-SVD: best-known dict learning algorithm, learn a dictionary $\\mathcal{D}$ and sparse coding $X$ simultaneously\n",
    "\n",
    "https://legacy.sites.fas.harvard.edu/~cs278/papers/ksvd.pdf"
   ]
  },
  {
   "attachments": {},
   "cell_type": "markdown",
   "metadata": {},
   "source": [
    "- objective: find best dictionary $\\mathcal{D} \\in \\mathbb{R}^{n \\times N}$ for sparse represenation of N samples $Y \\in \\mathbb{R}^{n \\times p} = \\left\\{\\mathbf{y_i}\\right\\}_{i=1}^N$ with sparse coefficient $X \\in \\mathbb{R}^{K \\times N}$, $\\mathbf{x_i} \\in \\mathbb{R}^{K}$ is column vector of $X$"
   ]
  },
  {
   "attachments": {},
   "cell_type": "markdown",
   "metadata": {},
   "source": [
    "$$\n",
    "\\underset{\\mathcal{D}, X}{\\arg\\min} \\left\\| Y - \\mathcal{D} X\\right\\|_F^2 \\text{ subject to } \\forall i =1,2,..., N \\left\\|\\mathbf{x_i}\\right\\|_0 \\leq T\n",
    "$$"
   ]
  },
  {
   "attachments": {},
   "cell_type": "markdown",
   "metadata": {},
   "source": [
    "## algorithm"
   ]
  },
  {
   "attachments": {},
   "cell_type": "markdown",
   "metadata": {},
   "source": [
    "initialization: set dictionary matrix $\\mathcal{D}^{(0)} \\in \\mathbb{R}^{n \\times N}$ with $l_2$ normalized columns. set $J=1$\n",
    "\n",
    "repeat untill convegence (stopping rule)\n",
    "\n",
    "**sparse coding stage**: use any pursuit algorithm to compute representation vector $\\mathbf{x_i} \\in \\mathbb{R}^{K}$ for each sample $\\mathbf{y_i} \\in \\mathbb{R}^{n}$ \n",
    "\n",
    "$$\n",
    "i = 1,2..., N, \\underset{\\mathbf{x_i}}{\\arg\\min} \\left\\| \\mathbf{y_i} - \\mathcal{D} \\mathbf{x_i}\\right\\|_2^2 \\text{ subject to } \\left\\|\\mathbf{x_i}\\right\\|_0 \\leq T\n",
    "$$\n",
    "\n",
    "**codebook update stage**: for each column $\\mathbf{d}_k$ in $\\mathcal{D}^{(J-1)} \\in \\mathbb{R}^{n \\times N}$ ($k=1,2,..., K$), update it by\n",
    "\n",
    "- define group of samples that use this atom $\\phi_k$\n",
    "\n",
    "$$\n",
    "\\omega_k =\\left\\{i|1\\leq i \\leq N, [\\mathbf{x_i}]_k \\neq 0\\right\\}\n",
    "$$\n",
    "\n",
    "- compute overall representation error matrix $E_k$\n",
    "\n",
    "$$\n",
    "E_k = Y - \\sum_{j \\neq k}^K \\mathbf{d}_j \\mathbf{X}_{[j, :]}\n",
    "$$\n",
    "\n",
    "- restrict $E_k$ by choosing only columns corresponding to $\\omega_k$ and obtain $E_k^R$\n",
    "\n",
    "- SVD decompose restricted error matrix $E_k^R = USV^T$\n",
    "\n",
    "    update dictionary column $\\tilde{\\mathbf{d}}_k$ to be first column of $U$, update coefficient vector $\\mathbf{X}_{[k, :]}$ to be first column of $V$ multipled by 2 x 2 diagonal matrix with entries 1\n",
    "\n",
    "- set $J=J+1$"
   ]
  },
  {
   "attachments": {},
   "cell_type": "markdown",
   "metadata": {},
   "source": [
    "## key step: error when an atom is removed"
   ]
  },
  {
   "attachments": {},
   "cell_type": "markdown",
   "metadata": {},
   "source": [
    "$$ \n",
    "\\begin{align}\n",
    "\\left\\| Y - \\mathcal{D} X\\right\\|_F^2 \n",
    "&=  \\left\\| Y - \\sum_{j =1}^K \\mathbf{d}_j \\mathbf{X}_{[j, :]}\\right\\|_F^2 \\\\[1em]\n",
    "&=  \\left\\| \\left(Y - \\sum_{j \\neq k}^K \\mathbf{d}_j \\mathbf{X}_{[j, :]} \\right) -  \\mathbf{d}_k \\mathbf{X}_{[k, :]}\\right\\|_F^2 \\\\[1em]\n",
    "&= \\left\\| E_k -  \\mathbf{d}_k \\mathbf{X}_{[k, :]}\\right\\|_F^2 \\\\[1em]\n",
    "\\end{align}\n",
    "$$"
   ]
  },
  {
   "attachments": {},
   "cell_type": "markdown",
   "metadata": {},
   "source": [
    "# polynomial dictionary"
   ]
  },
  {
   "attachments": {},
   "cell_type": "markdown",
   "metadata": {},
   "source": [
    "- objective: learn a dictionary $\\mathcal{D}$ as concatenation of subdictionaries $[\\mathcal{D}_1, ..., \\mathcal{D}_S]$\n",
    "\n",
    "$$\n",
    "\\underset{\\alpha}{\\arg\\min} \\left\\| Y - \\mathcal{D} X\\right\\|_F^2 +\\mu \\left\\|\\alpha \\right\\|_2^2\\\\[1em]\n",
    "\\text{subject to } \\mathcal{D}_s = \\sum_{k=0}^K \\alpha_{sk} L^k\\ \\ \\forall s \\in \\left\\{1, 2..., S\\right\\}\n",
    "$$\n",
    "\n",
    "where vector $\\alpha \\in \\mathbb{R}^{(K+1)S}$ is coefficient\n",
    "\n",
    "$L$ is Graph Laplacian\n",
    "\n",
    "constraint: each subdictionary (atom) $\\mathcal{D}_s$ is polynomial of graph laplacian"
   ]
  },
  {
   "attachments": {},
   "cell_type": "markdown",
   "metadata": {},
   "source": [
    "# graph denoising coding"
   ]
  },
  {
   "attachments": {},
   "cell_type": "markdown",
   "metadata": {},
   "source": [
    "- objective: convex, cen be solved faster by SGD\n",
    "\n",
    "$$\n",
    "\\underset{X}{\\arg\\min} \\left\\| Y - \\mathcal{D} X\\right\\|_F^2 + \\gamma (DX)^TL(DX)\n",
    "$$\n",
    "\n",
    "$(DX)^TL(DX)$: a quadratic form constrains signal to be smooth instead of sparse\n",
    "\n",
    "$\\gamma$: regularization parameter"
   ]
  },
  {
   "cell_type": "markdown",
   "metadata": {},
   "source": []
  }
 ],
 "metadata": {
  "language_info": {
   "name": "python"
  },
  "orig_nbformat": 4
 },
 "nbformat": 4,
 "nbformat_minor": 2
}
