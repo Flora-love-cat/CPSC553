{
 "cells": [
  {
   "attachments": {},
   "cell_type": "markdown",
   "metadata": {},
   "source": [
    "# hierarchical clustering"
   ]
  },
  {
   "attachments": {},
   "cell_type": "markdown",
   "metadata": {},
   "source": [
    "agglomerating vs. splitting\n",
    "\n",
    "- agglomerating: hierarchical clustering, join points that are close to each other\n",
    "\n",
    "- splitting: k-means clustering, spectral clustering, disjoint points that are far from each other by cutting edges"
   ]
  },
  {
   "attachments": {},
   "cell_type": "markdown",
   "metadata": {},
   "source": [
    "hierarchical clustering\n",
    "\n",
    "- first level: link individual points to be clusters based on distance\n",
    "\n",
    "- second level: link clusters based on min/mean/max distance\n",
    "\n",
    "    merge 2 clusters that are closest together untill there is only one cluster in graph."
   ]
  },
  {
   "attachments": {},
   "cell_type": "markdown",
   "metadata": {},
   "source": [
    "# community detection"
   ]
  },
  {
   "attachments": {},
   "cell_type": "markdown",
   "metadata": {},
   "source": [
    "## modularity"
   ]
  },
  {
   "attachments": {},
   "cell_type": "markdown",
   "metadata": {},
   "source": [
    "- Modularity measures the strength of division of a graphs into modules/groups/clusters/communities. \n",
    "\n",
    "- Modularity measures how densely edges within a cluster are connected compared to what is expected at random.\n",
    "\n",
    "- graph with high modularity have dense connections between the nodes within modules but sparse connections between nodes in different modules. "
   ]
  },
  {
   "attachments": {},
   "cell_type": "markdown",
   "metadata": {},
   "source": [
    "- modularity is sum of difference of connectivity between given graph and a random graph over all the node pairs\n",
    "\n",
    "$$\n",
    "Q = \\frac{1}{2m}\\sum_{i, j}(A_{ij}-P_{ij}) \\delta(c_i, c_j)\n",
    "$$\n",
    "\n",
    "$A$ is adjacency matrix of graph\n",
    "\n",
    "$P_{ij}=\\frac{k_i k_j}{2m}$ is probability of an expected edge between node $i$ and node $j$ in a random graph of same degree as given graph\n",
    "\n",
    "$k_i$ is degree of node $i$ in random graph\n",
    "\n",
    "$m=\\frac{1}{2}\\sum_{ij}A_{ij}$ is sum of all degrees in graph\n",
    "\n",
    "$\\delta(c_i, c_j)$ is identity function $1(\\text{node ci, node cj in same community})$\n"
   ]
  },
  {
   "attachments": {},
   "cell_type": "markdown",
   "metadata": {},
   "source": [
    "## Louvain clustering"
   ]
  },
  {
   "attachments": {},
   "cell_type": "markdown",
   "metadata": {},
   "source": [
    "Louvain is a 2-phase method\n",
    "\n",
    "- phase 1: find communities for each individual node\n",
    "\n",
    "    check only K neighbors of node\n",
    "\n",
    "- phase 2: coarse graining\n",
    "\n",
    "    each community in phase 1 becomes a node\n",
    "\n",
    "    repeat phase 1 until modularity don't increased"
   ]
  }
 ],
 "metadata": {
  "language_info": {
   "name": "python"
  },
  "orig_nbformat": 4
 },
 "nbformat": 4,
 "nbformat_minor": 2
}
