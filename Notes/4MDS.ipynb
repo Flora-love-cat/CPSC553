{
 "cells": [
  {
   "cell_type": "markdown",
   "metadata": {},
   "source": [
    "# distance"
   ]
  },
  {
   "attachments": {},
   "cell_type": "markdown",
   "metadata": {},
   "source": [
    "- distance metric determines how far away is each point from a point."
   ]
  },
  {
   "attachments": {},
   "cell_type": "markdown",
   "metadata": {},
   "source": [
    "## inner product → norm → distance"
   ]
  },
  {
   "attachments": {},
   "cell_type": "markdown",
   "metadata": {},
   "source": [
    "an inner product is a function $\\left<x, y\\right>$ that:\n",
    "\n",
    "- symmetric: $\\left<x, y\\right> = \\left<y, x\\right>$\n",
    "\n",
    "- non-negative: $\\left<x, y\\right>\\geq 0, \\left<0, 0\\right>=0$\n",
    "\n",
    "- linear: $\\left<\\alpha x, y\\right>=\\alpha\\left<x, y\\right>, \\left<x+y, z\\right> =\\left<x, z\\right> + \\left<y, z\\right>$"
   ]
  },
  {
   "attachments": {},
   "cell_type": "markdown",
   "metadata": {},
   "source": [
    "- similarity of 2 vectors can be defined based on inner product between 2 vectors\n",
    "\n",
    "- covariance matrix is a dot product between centered feature vectors, where n is sample size\n",
    "\n",
    "$$\n",
    "cov(X)=\\frac{X^TX}{n-1}\n",
    "$$\n",
    "\n",
    "- cosine similarity is a measure of similarity between two vectors $a, b$ defined in an inner product space.\n",
    "\n",
    "$$\n",
    "\\text{cosine similarity} = cos(\\theta)=\\frac{a^Tb}{\\left \\| a \\right \\| \\left \\| b \\right \\|}\n",
    "$$"
   ]
  },
  {
   "cell_type": "markdown",
   "metadata": {},
   "source": [
    "## inner product → norm → distance"
   ]
  },
  {
   "cell_type": "markdown",
   "metadata": {},
   "source": [
    "- -> means induce 归纳出"
   ]
  },
  {
   "attachments": {},
   "cell_type": "markdown",
   "metadata": {},
   "source": [
    "- most common inner product is Euclidean dot product, which induces Euclidean distance\n",
    "\n",
    "    - Euclidean dot product: \n",
    "    \n",
    "    $$\n",
    "    \\left<x, y\\right>= x^Ty = \\sum_{i=1}^d x_i y_i\n",
    "    $$\n",
    "    \n",
    "    - Euclidean distance (induced by $l_2$ norm, which is square root of inner product)\n",
    "    \n",
    "    $$\n",
    "    d_2(x,y) = \\left \\| x-y \\right \\|_2 = \\sqrt{\\left<x-y, x-y\\right>} :=\\sqrt{\\sum_{i=1}^d \\left ( x_i - y_i \\right )^2}\n",
    "    $$\n",
    "    \n",
    "    notation := means definition"
   ]
  },
  {
   "cell_type": "markdown",
   "metadata": {},
   "source": [
    "- Manhattan Distance (induced by $l_1$ norm): named from blocks of Manhattan\n",
    "\n",
    "    $$\n",
    "    d_1(x,y) = | x-y | :=\\sum_{i=1}^d | x_i - y_i |\n",
    "    $$"
   ]
  },
  {
   "attachments": {},
   "cell_type": "markdown",
   "metadata": {},
   "source": [
    "- a **distance** (a metric) is a function $f(x,y)$ that is **symmetric, non-negative and follows triangle inequality**\n",
    "\n",
    "    - symmetric: $f(x,y)=f(y,x)$\n",
    "    \n",
    "    - non-negative: $f(x,y)\\geq0, f(x,x)=0$\n",
    "    \n",
    "    - triangle inequality: $f(x,y)\\leq f(x,z)+f(y,z)$"
   ]
  },
  {
   "attachments": {},
   "cell_type": "markdown",
   "metadata": {},
   "source": [
    "- properties of a **distance matrix:** \n",
    "\n",
    "    - diagonal entries are all 0s\n",
    "    \n",
    "    - symmetric\n",
    "    \n",
    "    - non-negative, all the entries $D_{i,j}=d(x_i, x_j)\\geq 0$, where $d$ is distance function"
   ]
  },
  {
   "cell_type": "markdown",
   "metadata": {},
   "source": [
    "- once we have distance matrix, we can define MDS"
   ]
  },
  {
   "attachments": {},
   "cell_type": "markdown",
   "metadata": {},
   "source": [
    "# MDS (MultiDimensional Scaling)"
   ]
  },
  {
   "cell_type": "markdown",
   "metadata": {},
   "source": [
    "## intro"
   ]
  },
  {
   "attachments": {},
   "cell_type": "markdown",
   "metadata": {},
   "source": [
    "- MDS is a dim reduction method designed to **preserve distance in some metric**\n",
    "\n",
    "- use MDS to produce interesting embeddings that show underlying structure of data\n",
    "\n",
    "- e.g., PCA is MDS on Euclidean distance, PHATE is MDS on Manifold distances"
   ]
  },
  {
   "cell_type": "markdown",
   "metadata": {},
   "source": [
    "## movitation: distance/proximities preservation"
   ]
  },
  {
   "attachments": {},
   "cell_type": "markdown",
   "metadata": {},
   "source": [
    "- MDS preserve **distance/proximities** while PCA preserves **variance**"
   ]
  },
  {
   "attachments": {},
   "cell_type": "markdown",
   "metadata": {},
   "source": [
    "- motivation 1: preserve distances/structure between data points from high dim to **lower dim**\n",
    "    \n",
    "- motivation 2: find coordinates for data points that doesn't come with coordinates, so that they can have pairwise distances\n",
    "\n",
    "    e.g., Social network, protein/gene interaction\n",
    "    \n",
    "    data is a set of proximities/dissimilarities between subjects"
   ]
  },
  {
   "cell_type": "markdown",
   "metadata": {},
   "source": [
    "## optimization"
   ]
  },
  {
   "cell_type": "markdown",
   "metadata": {},
   "source": [
    "- objective: find new coordinates of data that minimize **stress**\n",
    "\n",
    "    stress: distance between given distance and Euclidean distances between new coordinates\n",
    "\n",
    "$$\n",
    "\\hat Y =\\arg \\min_{Y} Stress (Y)=\\arg \\min_{Y} \\sum _{i=1}^n \\sum _{i=1}^n \\sqrt{\\left ( D_{i,j}-\\left \\| y_i - y_j \\right \\| ^2\\right )}\n",
    "$$\n",
    "\n",
    "where $D \\in \\mathbb{R}^{n \\times n}$ is a given distance matrix calculated from original data points using **some distance metric**,\n",
    "\n",
    "$Y = \\left \\{ y_1, y_2,...,y_n \\right \\}$ is a set of new coordinates for data points \n",
    "\n",
    "$\\left \\| y_i - y_j \\right \\| ^2$ is **Euclidean distance** between 2 data points $y_i, y_j$"
   ]
  },
  {
   "cell_type": "markdown",
   "metadata": {},
   "source": [
    "- solution: **NO analytic solution** (closed-form)\n",
    "\n",
    "    - iterative steepest descent\n",
    "    \n",
    "    - stress majorization"
   ]
  },
  {
   "attachments": {},
   "cell_type": "markdown",
   "metadata": {},
   "source": [
    "## special case: classic MDS = PCA"
   ]
  },
  {
   "attachments": {},
   "cell_type": "markdown",
   "metadata": {},
   "source": [
    "- Classic MDS has analytic solution: new coordinates $Y=US$\n",
    "    \n",
    "    where $U, S$ are matrices from SVD of inner product of mean centered data\n",
    "\n",
    "$$\n",
    "B=X_c^T X_c= USV^T\n",
    "$$\n",
    "\n",
    "\n",
    "- if given distance matrix using **Euclidean distance**, then MDS is PCA, we don't need to use iterative steepest descent algo\n"
   ]
  },
  {
   "cell_type": "markdown",
   "metadata": {},
   "source": [
    "### double centering"
   ]
  },
  {
   "cell_type": "markdown",
   "metadata": {},
   "source": [
    "- Euclidean dot product matrix of data $X^TX$ can be derived from distance matrix D by double centering"
   ]
  },
  {
   "cell_type": "markdown",
   "metadata": {},
   "source": [
    "- apply **law of Cosine** to distance matrix D 余弦定理\n",
    "\n",
    "$$\n",
    "D_{i,j}^2 = \\left \\| x_i-x_j \\right \\|_2^2 =  \\left \\| x_i-\\bar x \\right \\|_2^2 + \\left \\| x_j-\\bar x \\right \\|_2^2 -2\\left \\langle x_i-\\bar x,  x_j- \\bar x \\right \\rangle\n",
    "$$\n",
    "\n",
    "the last term is i, j th entry of mean centered data inner product matrix $X_c^TX_c$,\n",
    "\n",
    "we can directly modify $D^2$ to remove first 2 terms"
   ]
  },
  {
   "cell_type": "markdown",
   "metadata": {},
   "source": [
    "- define matrix $B$\n",
    "\n",
    "$$\n",
    "B=\\left (I_n -\\frac{1}{n} J_n \\right )D^2 \\left (I_n -\\frac{1}{n} J_n \\right )=X_c^TX_c\n",
    "$$\n",
    "\n",
    "$I_n -\\frac{1}{n} J_n \\in \\mathbb{R}^{n \\times n}$ is a centering matrix,\n",
    "\n",
    "$I_n \\in \\mathbb{R}^{n \\times n}$ is an Identity matrix with all 0 entries except diagonal entries all 1s\n",
    "\n",
    "$J_n \\in \\mathbb{R}^{n \\times n}$ is a matrix of all 1 entries\n"
   ]
  },
  {
   "cell_type": "markdown",
   "metadata": {},
   "source": [
    "- then we can reformulate Stress to Strain\n",
    "\n",
    "$$\n",
    "\\hat Y =\\arg \\min_{Y} Stress (Y)=\\arg \\min_{Y} \\sum _{i=1}^n \\sum _{i=1}^n \\sqrt{\\left ( D_{i,j}-\\left \\| y_i - y_j \\right \\| ^2\\right )}\n",
    "$$\n",
    "\n",
    "$$\n",
    "\\hat Y =\\arg \\min_{Y} Strain (Y)=\\arg \\min_{Y} \\sum _{i=1}^n \\sum _{i=1}^n \\sqrt{\\frac{(B_{i,j} - y_i ^T y_j)^2}{B_{i,j}^2}}\n",
    "$$\n",
    "\n",
    "where $B_{i,j}$ is i,j th entry of inner product of **mean centered** data matrix $X_c^TX_c$"
   ]
  },
  {
   "attachments": {},
   "cell_type": "markdown",
   "metadata": {},
   "source": [
    "- SVD of B: **solution**  new coordinates $Y=US$\n",
    "\n",
    "$$\n",
    "B= USV^T\n",
    "$$\n",
    "\n",
    "- eigendecomposition of B\n",
    "\n",
    "$$\n",
    "B=U\\Lambda U^{-1}= U\\Lambda U^T = U \\Lambda ^{1/2} \\Lambda ^{1/2} U^T=(\\Lambda ^{1/2} U^T)^T(\\Lambda ^{1/2} U^T)\n",
    "$$\n",
    "\n",
    "so mean centered data $X_c$ is \n",
    "\n",
    "$$X_c=\\Lambda ^{1/2} U^T$$"
   ]
  },
  {
   "attachments": {},
   "cell_type": "markdown",
   "metadata": {},
   "source": [
    "# Wine dataset"
   ]
  },
  {
   "attachments": {},
   "cell_type": "markdown",
   "metadata": {},
   "source": [
    "SKlearn MDS tutorial: https://scikit-learn.org/stable/auto_examples/manifold/plot_mds.html"
   ]
  },
  {
   "attachments": {},
   "cell_type": "markdown",
   "metadata": {},
   "source": [
    "create different embedding using MDS of different distances\n",
    "\n",
    "- classic MDS (cMDS): Euclidean distance\n",
    "\n",
    "- mMDS: Manhattan distance.\n",
    "\n",
    "- nMDS: non-metric MDS"
   ]
  },
  {
   "cell_type": "markdown",
   "metadata": {},
   "source": [
    "### load Wine dataset"
   ]
  },
  {
   "cell_type": "code",
   "execution_count": 2,
   "metadata": {},
   "outputs": [],
   "source": [
    "import numpy as np\n",
    "import pandas as pd\n",
    "import matplotlib.pyplot as plt\n",
    "%matplotlib inline\n",
    "import sklearn.preprocessing\n",
    "import sklearn.datasets\n",
    "from sklearn import manifold \n",
    "from scipy.spatial.distance import pdist, squareform, cityblock"
   ]
  },
  {
   "cell_type": "code",
   "execution_count": 3,
   "metadata": {},
   "outputs": [
    {
     "data": {
      "text/html": [
       "<div>\n",
       "<style scoped>\n",
       "    .dataframe tbody tr th:only-of-type {\n",
       "        vertical-align: middle;\n",
       "    }\n",
       "\n",
       "    .dataframe tbody tr th {\n",
       "        vertical-align: top;\n",
       "    }\n",
       "\n",
       "    .dataframe thead th {\n",
       "        text-align: right;\n",
       "    }\n",
       "</style>\n",
       "<table border=\"1\" class=\"dataframe\">\n",
       "  <thead>\n",
       "    <tr style=\"text-align: right;\">\n",
       "      <th></th>\n",
       "      <th>alcohol</th>\n",
       "      <th>malic_acid</th>\n",
       "      <th>ash</th>\n",
       "      <th>alcalinity_of_ash</th>\n",
       "      <th>magnesium</th>\n",
       "      <th>total_phenols</th>\n",
       "      <th>flavanoids</th>\n",
       "      <th>nonflavanoid_phenols</th>\n",
       "      <th>proanthocyanins</th>\n",
       "      <th>color_intensity</th>\n",
       "      <th>hue</th>\n",
       "      <th>od280/od315_of_diluted_wines</th>\n",
       "      <th>proline</th>\n",
       "    </tr>\n",
       "  </thead>\n",
       "  <tbody>\n",
       "    <tr>\n",
       "      <th>Wine0</th>\n",
       "      <td>1.518613</td>\n",
       "      <td>-0.562250</td>\n",
       "      <td>0.232053</td>\n",
       "      <td>-1.169593</td>\n",
       "      <td>1.913905</td>\n",
       "      <td>0.808997</td>\n",
       "      <td>1.034819</td>\n",
       "      <td>-0.659563</td>\n",
       "      <td>1.224884</td>\n",
       "      <td>0.251717</td>\n",
       "      <td>0.362177</td>\n",
       "      <td>1.847920</td>\n",
       "      <td>1.013009</td>\n",
       "    </tr>\n",
       "    <tr>\n",
       "      <th>Wine1</th>\n",
       "      <td>0.246290</td>\n",
       "      <td>-0.499413</td>\n",
       "      <td>-0.827996</td>\n",
       "      <td>-2.490847</td>\n",
       "      <td>0.018145</td>\n",
       "      <td>0.568648</td>\n",
       "      <td>0.733629</td>\n",
       "      <td>-0.820719</td>\n",
       "      <td>-0.544721</td>\n",
       "      <td>-0.293321</td>\n",
       "      <td>0.406051</td>\n",
       "      <td>1.113449</td>\n",
       "      <td>0.965242</td>\n",
       "    </tr>\n",
       "    <tr>\n",
       "      <th>Wine2</th>\n",
       "      <td>0.196879</td>\n",
       "      <td>0.021231</td>\n",
       "      <td>1.109334</td>\n",
       "      <td>-0.268738</td>\n",
       "      <td>0.088358</td>\n",
       "      <td>0.808997</td>\n",
       "      <td>1.215533</td>\n",
       "      <td>-0.498407</td>\n",
       "      <td>2.135968</td>\n",
       "      <td>0.269020</td>\n",
       "      <td>0.318304</td>\n",
       "      <td>0.788587</td>\n",
       "      <td>1.395148</td>\n",
       "    </tr>\n",
       "    <tr>\n",
       "      <th>Wine3</th>\n",
       "      <td>1.691550</td>\n",
       "      <td>-0.346811</td>\n",
       "      <td>0.487926</td>\n",
       "      <td>-0.809251</td>\n",
       "      <td>0.930918</td>\n",
       "      <td>2.491446</td>\n",
       "      <td>1.466525</td>\n",
       "      <td>-0.981875</td>\n",
       "      <td>1.032155</td>\n",
       "      <td>1.186068</td>\n",
       "      <td>-0.427544</td>\n",
       "      <td>1.184071</td>\n",
       "      <td>2.334574</td>\n",
       "    </tr>\n",
       "    <tr>\n",
       "      <th>Wine4</th>\n",
       "      <td>0.295700</td>\n",
       "      <td>0.227694</td>\n",
       "      <td>1.840403</td>\n",
       "      <td>0.451946</td>\n",
       "      <td>1.281985</td>\n",
       "      <td>0.808997</td>\n",
       "      <td>0.663351</td>\n",
       "      <td>0.226796</td>\n",
       "      <td>0.401404</td>\n",
       "      <td>-0.319276</td>\n",
       "      <td>0.362177</td>\n",
       "      <td>0.449601</td>\n",
       "      <td>-0.037874</td>\n",
       "    </tr>\n",
       "  </tbody>\n",
       "</table>\n",
       "</div>"
      ],
      "text/plain": [
       "        alcohol  malic_acid       ash  alcalinity_of_ash  magnesium  \\\n",
       "Wine0  1.518613   -0.562250  0.232053          -1.169593   1.913905   \n",
       "Wine1  0.246290   -0.499413 -0.827996          -2.490847   0.018145   \n",
       "Wine2  0.196879    0.021231  1.109334          -0.268738   0.088358   \n",
       "Wine3  1.691550   -0.346811  0.487926          -0.809251   0.930918   \n",
       "Wine4  0.295700    0.227694  1.840403           0.451946   1.281985   \n",
       "\n",
       "       total_phenols  flavanoids  nonflavanoid_phenols  proanthocyanins  \\\n",
       "Wine0       0.808997    1.034819             -0.659563         1.224884   \n",
       "Wine1       0.568648    0.733629             -0.820719        -0.544721   \n",
       "Wine2       0.808997    1.215533             -0.498407         2.135968   \n",
       "Wine3       2.491446    1.466525             -0.981875         1.032155   \n",
       "Wine4       0.808997    0.663351              0.226796         0.401404   \n",
       "\n",
       "       color_intensity       hue  od280/od315_of_diluted_wines   proline  \n",
       "Wine0         0.251717  0.362177                      1.847920  1.013009  \n",
       "Wine1        -0.293321  0.406051                      1.113449  0.965242  \n",
       "Wine2         0.269020  0.318304                      0.788587  1.395148  \n",
       "Wine3         1.186068 -0.427544                      1.184071  2.334574  \n",
       "Wine4        -0.319276  0.362177                      0.449601 -0.037874  "
      ]
     },
     "execution_count": 3,
     "metadata": {},
     "output_type": "execute_result"
    }
   ],
   "source": [
    "wine = sklearn.datasets.load_wine()\n",
    "\n",
    "# Access the numerical data from the wine Bunch\n",
    "data = wine['data']\n",
    "\n",
    "# features: Load features of data\n",
    "feature_names = wine['feature_names']\n",
    "\n",
    "# label: Load cultivar information about each wine\n",
    "cultivars = np.array(['Cultivar{}'.format(cl) for cl in wine['target']])\n",
    "\n",
    "# Create nice names for each row\n",
    "wine_names = np.array(['Wine{}'.format(i) for i in range(data.shape[0])])\n",
    "\n",
    "# use the sklearn StandardScaler to scale to mean 0, variance 1\n",
    "data = sklearn.preprocessing.StandardScaler().fit_transform(data)\n",
    "\n",
    "# Gather all of this information into a DataFrame\n",
    "data = pd.DataFrame(data, columns=feature_names, index=wine_names)\n",
    "\n",
    "# Print the first 5 rows of the data, eq. to data[:5]\n",
    "data.head()\n",
    "\n"
   ]
  },
  {
   "cell_type": "code",
   "execution_count": 4,
   "metadata": {
    "ExecuteTime": {
     "end_time": "2021-09-23T16:05:39.126799Z",
     "start_time": "2021-09-23T16:05:37.544724Z"
    },
    "colab": {
     "base_uri": "https://localhost:8080/",
     "height": 500
    },
    "id": "R1ghXYR1Klxs",
    "outputId": "eca75d1a-822e-4a23-b98e-e189d7223b01",
    "scrolled": true
   },
   "outputs": [
    {
     "name": "stderr",
     "output_type": "stream",
     "text": [
      "/opt/anaconda3/envs/d2l/lib/python3.8/site-packages/sklearn/manifold/_mds.py:517: UserWarning: The MDS API has changed. ``fit`` now constructs an dissimilarity matrix from data. To use a custom dissimilarity matrix, set ``dissimilarity='precomputed'``.\n",
      "  warnings.warn(\n",
      "/opt/anaconda3/envs/d2l/lib/python3.8/site-packages/sklearn/manifold/_mds.py:259: UserWarning: Explicit initial positions passed: performing only one init of the MDS instead of 4\n",
      "  warnings.warn(\n"
     ]
    },
    {
     "data": {
      "image/png": "[encoded data removed]",
      "text/plain": [
       "<Figure size 432x288 with 1 Axes>"
      ]
     },
     "metadata": {
      "needs_background": "light"
     },
     "output_type": "display_data"
    }
   ],
   "source": [
    "# Pairwise distances between observations, default metric='euclidean'\n",
    "metrics = ['euclidean', 'cityblock']\n",
    "labels = ['cMDS', 'mMDS']\n",
    "\n",
    "model = manifold.MDS(n_components=2, dissimilarity=\"precomputed\")\n",
    "for metric, label in zip(metrics, labels):\n",
    "\n",
    "    similarities = squareform(pdist(data, metric)) # a square distance matrix (178, 178)\n",
    "    embedding = model.fit_transform(similarities) #(178, 2)\n",
    "    plt.scatter(embedding[:, 0], embedding[:, 1], s=5, label=label)\n",
    "\n",
    "model = manifold.MDS(n_components=2, metric=False)\n",
    "embedding = model.fit_transform(similarities, init=embedding)\n",
    "plt.scatter(embedding[:, 0], embedding[:, 1], s=5, label='nMDS')\n",
    "\n",
    "plt.legend(bbox_to_anchor=(1.2, 1))\n",
    "plt.title(\"MDS\")\n",
    "plt.show()"
   ]
  }
 ],
 "metadata": {
  "colab": {
   "collapsed_sections": [],
   "name": "CPSC453_Cov_PCA_MDS.ipynb",
   "provenance": []
  },
  "hide_input": false,
  "kernelspec": {
   "display_name": "d2l",
   "language": "python",
   "name": "python3"
  },
  "language_info": {
   "codemirror_mode": {
    "name": "ipython",
    "version": 3
   },
   "file_extension": ".py",
   "mimetype": "text/x-python",
   "name": "python",
   "nbconvert_exporter": "python",
   "pygments_lexer": "ipython3",
   "version": "3.8.10"
  },
  "toc": {
   "base_numbering": 1,
   "nav_menu": {},
   "number_sections": true,
   "sideBar": true,
   "skip_h1_title": false,
   "title_cell": "Table of Contents",
   "title_sidebar": "Contents",
   "toc_cell": false,
   "toc_position": {},
   "toc_section_display": true,
   "toc_window_display": true
  },
  "varInspector": {
   "cols": {
    "lenName": 16,
    "lenType": 16,
    "lenVar": 40
   },
   "kernels_config": {
    "python": {
     "delete_cmd_postfix": "",
     "delete_cmd_prefix": "del ",
     "library": "var_list.py",
     "varRefreshCmd": "print(var_dic_list())"
    },
    "r": {
     "delete_cmd_postfix": ") ",
     "delete_cmd_prefix": "rm(",
     "library": "var_list.r",
     "varRefreshCmd": "cat(var_dic_list()) "
    }
   },
   "types_to_exclude": [
    "module",
    "function",
    "builtin_function_or_method",
    "instance",
    "_Feature"
   ],
   "window_display": false
  },
  "vscode": {
   "interpreter": {
    "hash": "15a162aef56c374f20e075fbc4add75b55bd097c903a763d3b0c4cccda1c0caf"
   }
  }
 },
 "nbformat": 4,
 "nbformat_minor": 1
}
